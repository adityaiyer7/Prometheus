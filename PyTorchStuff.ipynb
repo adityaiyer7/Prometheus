{
  "nbformat": 4,
  "nbformat_minor": 0,
  "metadata": {
    "colab": {
      "provenance": [],
      "authorship_tag": "ABX9TyPOiW3UamnkY08jxgZtziUQ",
      "include_colab_link": true
    },
    "kernelspec": {
      "name": "python3",
      "display_name": "Python 3"
    },
    "language_info": {
      "name": "python"
    }
  },
  "cells": [
    {
      "cell_type": "markdown",
      "metadata": {
        "id": "view-in-github",
        "colab_type": "text"
      },
      "source": [
        "<a href=\"https://colab.research.google.com/github/adityaiyer7/Prometheus/blob/master/PyTorchStuff.ipynb\" target=\"_parent\"><img src=\"https://colab.research.google.com/assets/colab-badge.svg\" alt=\"Open In Colab\"/></a>"
      ]
    },
    {
      "cell_type": "code",
      "execution_count": 1,
      "metadata": {
        "id": "sleuG7Rx2vGJ"
      },
      "outputs": [],
      "source": [
        "import torch"
      ]
    },
    {
      "cell_type": "code",
      "source": [
        "randint = torch.randint(-100, 100, (6,)) #from -100 to 100, and 6 numbers\n",
        "print(randint)"
      ],
      "metadata": {
        "colab": {
          "base_uri": "https://localhost:8080/"
        },
        "id": "gIwNYj6d3C3v",
        "outputId": "6e5a45ce-af25-4a53-ee31-8219ebf760f5"
      },
      "execution_count": 2,
      "outputs": [
        {
          "output_type": "stream",
          "name": "stdout",
          "text": [
            "tensor([ 23, -98,  92,  69, -42,  17])\n"
          ]
        }
      ]
    },
    {
      "cell_type": "code",
      "source": [
        "tensor = torch.tensor([[0.1, 1.2], [2.2, 3.1], [4.9,5.2]])\n",
        "tensor"
      ],
      "metadata": {
        "colab": {
          "base_uri": "https://localhost:8080/"
        },
        "id": "q4q3dMIk3TMz",
        "outputId": "4f543bf2-c969-4a25-a025-98247083f161"
      },
      "execution_count": 3,
      "outputs": [
        {
          "output_type": "execute_result",
          "data": {
            "text/plain": [
              "tensor([[0.1000, 1.2000],\n",
              "        [2.2000, 3.1000],\n",
              "        [4.9000, 5.2000]])"
            ]
          },
          "metadata": {},
          "execution_count": 3
        }
      ]
    },
    {
      "cell_type": "code",
      "source": [
        "zeros = torch.zeros(2,3)\n",
        "zeros"
      ],
      "metadata": {
        "colab": {
          "base_uri": "https://localhost:8080/"
        },
        "id": "jaYny4ty3efl",
        "outputId": "1525e1a5-660d-461f-b127-8ebb7ced49ae"
      },
      "execution_count": 4,
      "outputs": [
        {
          "output_type": "execute_result",
          "data": {
            "text/plain": [
              "tensor([[0., 0., 0.],\n",
              "        [0., 0., 0.]])"
            ]
          },
          "metadata": {},
          "execution_count": 4
        }
      ]
    },
    {
      "cell_type": "code",
      "source": [
        "ones = torch.ones(3,4)\n",
        "ones"
      ],
      "metadata": {
        "colab": {
          "base_uri": "https://localhost:8080/"
        },
        "id": "jBXQhfkF3mNe",
        "outputId": "a32bad59-c33f-4104-f56b-4ab2d35ef737"
      },
      "execution_count": 5,
      "outputs": [
        {
          "output_type": "execute_result",
          "data": {
            "text/plain": [
              "tensor([[1., 1., 1., 1.],\n",
              "        [1., 1., 1., 1.],\n",
              "        [1., 1., 1., 1.]])"
            ]
          },
          "metadata": {},
          "execution_count": 5
        }
      ]
    },
    {
      "cell_type": "code",
      "source": [
        "input = torch.empty(2,3)\n",
        "input"
      ],
      "metadata": {
        "colab": {
          "base_uri": "https://localhost:8080/"
        },
        "id": "P3CnFqpm3qQg",
        "outputId": "83571a24-9684-4de0-ff9f-24d8b3868133"
      },
      "execution_count": 6,
      "outputs": [
        {
          "output_type": "execute_result",
          "data": {
            "text/plain": [
              "tensor([[-4.5219e-30,  4.3820e-41,  1.4897e+04],\n",
              "        [ 3.3232e-41,  1.4013e-45,  0.0000e+00]])"
            ]
          },
          "metadata": {},
          "execution_count": 6
        }
      ]
    },
    {
      "cell_type": "code",
      "source": [
        "arange = torch.arange(5)\n",
        "arange"
      ],
      "metadata": {
        "colab": {
          "base_uri": "https://localhost:8080/"
        },
        "id": "gy0Bw7Hh3vpl",
        "outputId": "d6c11c07-8b47-4c74-c8b3-9fdf72c87c04"
      },
      "execution_count": 7,
      "outputs": [
        {
          "output_type": "execute_result",
          "data": {
            "text/plain": [
              "tensor([0, 1, 2, 3, 4])"
            ]
          },
          "metadata": {},
          "execution_count": 7
        }
      ]
    },
    {
      "cell_type": "code",
      "source": [
        "linespace = torch.linspace(start = 3,end = 10,steps=5) #we go from 3 to 10, over 5 steps (adding the same amount everytime to get 5 values from 3 to 10)\n",
        "linespace"
      ],
      "metadata": {
        "colab": {
          "base_uri": "https://localhost:8080/"
        },
        "id": "hd-XFwbE3-Te",
        "outputId": "a1f46428-4b93-4575-c715-227152f220ae"
      },
      "execution_count": 8,
      "outputs": [
        {
          "output_type": "execute_result",
          "data": {
            "text/plain": [
              "tensor([ 3.0000,  4.7500,  6.5000,  8.2500, 10.0000])"
            ]
          },
          "metadata": {},
          "execution_count": 8
        }
      ]
    },
    {
      "cell_type": "code",
      "source": [
        "logspace = torch.logspace(start = -10, end = 10, steps = 5)\n",
        "logspace"
      ],
      "metadata": {
        "colab": {
          "base_uri": "https://localhost:8080/"
        },
        "id": "xcDgKZva4G-b",
        "outputId": "d7f350cb-64d8-4843-966f-a969b0e47a54"
      },
      "execution_count": 9,
      "outputs": [
        {
          "output_type": "execute_result",
          "data": {
            "text/plain": [
              "tensor([1.0000e-10, 1.0000e-05, 1.0000e+00, 1.0000e+05, 1.0000e+10])"
            ]
          },
          "metadata": {},
          "execution_count": 9
        }
      ]
    },
    {
      "cell_type": "code",
      "source": [
        "eye = torch.eye(5)\n",
        "eye"
      ],
      "metadata": {
        "colab": {
          "base_uri": "https://localhost:8080/"
        },
        "id": "FaMdKmqw4a4G",
        "outputId": "0b914b05-98c2-405b-ea0d-ae746f20a120"
      },
      "execution_count": 10,
      "outputs": [
        {
          "output_type": "execute_result",
          "data": {
            "text/plain": [
              "tensor([[1., 0., 0., 0., 0.],\n",
              "        [0., 1., 0., 0., 0.],\n",
              "        [0., 0., 1., 0., 0.],\n",
              "        [0., 0., 0., 1., 0.],\n",
              "        [0., 0., 0., 0., 1.]])"
            ]
          },
          "metadata": {},
          "execution_count": 10
        }
      ]
    },
    {
      "cell_type": "code",
      "source": [
        "a = torch.empty((2,3), dtype = torch.int64)\n",
        "empty_like = torch.empty_like(a)\n",
        "empty_like"
      ],
      "metadata": {
        "colab": {
          "base_uri": "https://localhost:8080/"
        },
        "id": "Rs5_NMYU4pm9",
        "outputId": "88391cac-936e-474a-981c-e7c434a4c3f4"
      },
      "execution_count": 11,
      "outputs": [
        {
          "output_type": "execute_result",
          "data": {
            "text/plain": [
              "tensor([[    101870389210732,                   0,                   1],\n",
              "        [6066685341899685888,                  80,                  80]])"
            ]
          },
          "metadata": {},
          "execution_count": 11
        }
      ]
    },
    {
      "cell_type": "code",
      "source": [
        "import torch.nn as nn\n",
        "sample = torch.tensor([10.,10.,10.])\n",
        "linear = nn.Linear(3,2, bias = False)\n",
        "print(\"Linear weight:\", linear.weight)\n",
        "linear_one = nn.Linear(2,1, bias = 5.4)\n",
        "print(\"Linear_one weight:\", linear_one.weight)\n",
        "#linear stands for linear transformation\n",
        "#y = (weight*x) + bias\n",
        "#https://pytorch.org/docs/stable/nn.html\n",
        "print(linear_one(linear(sample)))"
      ],
      "metadata": {
        "colab": {
          "base_uri": "https://localhost:8080/"
        },
        "id": "roLzkzHVLXzy",
        "outputId": "3ddae686-9b6d-4b55-a0f5-ee9613ebb960"
      },
      "execution_count": 17,
      "outputs": [
        {
          "output_type": "stream",
          "name": "stdout",
          "text": [
            "Linear weight: Parameter containing:\n",
            "tensor([[-0.3518, -0.0057,  0.1946],\n",
            "        [-0.1162, -0.3444, -0.0016]], requires_grad=True)\n",
            "Linear_one weight: Parameter containing:\n",
            "tensor([[-0.4523, -0.5444]], requires_grad=True)\n",
            "tensor([3.7615], grad_fn=<ViewBackward0>)\n"
          ]
        }
      ]
    },
    {
      "cell_type": "code",
      "source": [
        "import torch.nn.functional as F\n",
        "tensor1 = torch.tensor([1.0,2.0,3.0])\n",
        "softmax_output = F.softmax(tensor1, dim = 0)\n",
        "print(softmax_output)\n",
        "#here's how the softmax function works: https://en.wikipedia.org/wiki/Softmax_function\n",
        "#softmax([1,2,3])\n",
        "\n",
        "#Step 1: e^1 = 2.71\n",
        "#Step 2: 2.71^2 = 7.34\n",
        "#Step 3: 2.71^3 = 19.9\n",
        "\n",
        "#Step 4: 2.71+7.34+19.9 = 29.95\n",
        "#Step 5: x = 2.71/29.95, y = 7.34/29.95, z = 19.9/29.95\n",
        "#Step 6: [x,y,z]"
      ],
      "metadata": {
        "colab": {
          "base_uri": "https://localhost:8080/"
        },
        "id": "zXLKonTLMKxa",
        "outputId": "092a248a-cad9-4e5e-a952-7b11391d348e"
      },
      "execution_count": 18,
      "outputs": [
        {
          "output_type": "stream",
          "name": "stdout",
          "text": [
            "tensor([0.0900, 0.2447, 0.6652])\n"
          ]
        }
      ]
    }
  ]
}